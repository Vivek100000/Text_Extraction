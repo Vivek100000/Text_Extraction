{
 "cells": [
  {
   "cell_type": "code",
   "execution_count": 1,
   "metadata": {},
   "outputs": [],
   "source": [
    "import re"
   ]
  },
  {
   "cell_type": "code",
   "execution_count": 2,
   "metadata": {},
   "outputs": [],
   "source": [
    "paragraph = \"\"\"John is 24 years old and Sara is 23 and Maiki is 15 years old.\"\"\""
   ]
  },
  {
   "cell_type": "markdown",
   "metadata": {},
   "source": [
    "let's extract all ages"
   ]
  },
  {
   "cell_type": "code",
   "execution_count": 3,
   "metadata": {},
   "outputs": [
    {
     "data": {
      "text/plain": [
       "['24', '23', '15']"
      ]
     },
     "execution_count": 3,
     "metadata": {},
     "output_type": "execute_result"
    }
   ],
   "source": [
    "age_pattern = r'[0-9]+'\n",
    "ages=re.findall(age_pattern,paragraph)\n",
    "ages\n"
   ]
  },
  {
   "cell_type": "markdown",
   "metadata": {},
   "source": [
    "let's extrac all names"
   ]
  },
  {
   "cell_type": "code",
   "execution_count": 4,
   "metadata": {},
   "outputs": [
    {
     "data": {
      "text/plain": [
       "['John', 'Sara', 'Maiki']"
      ]
     },
     "execution_count": 4,
     "metadata": {},
     "output_type": "execute_result"
    }
   ],
   "source": [
    "name_patterns = r'[A-Z][a-z]+'\n",
    "Names = re.findall(name_patterns,paragraph)\n",
    "Names"
   ]
  },
  {
   "cell_type": "code",
   "execution_count": 5,
   "metadata": {},
   "outputs": [],
   "source": [
    "phone_numbers = \"\"\"\n",
    "john: 145-202-9330\n",
    "Sara: 156.201.3333\n",
    "maiki: 111*505*1254\n",
    "\"\"\""
   ]
  },
  {
   "cell_type": "markdown",
   "metadata": {},
   "source": [
    "Extracting phone numbers "
   ]
  },
  {
   "cell_type": "code",
   "execution_count": 6,
   "metadata": {},
   "outputs": [
    {
     "data": {
      "text/plain": [
       "['145-202-9330', '156.201.3333', '111*505*1254']"
      ]
     },
     "execution_count": 6,
     "metadata": {},
     "output_type": "execute_result"
    }
   ],
   "source": [
    "p_pattern = r'([0-9]+.[0-9]+.[0-9]+)'\n",
    "phnos = re.findall(p_pattern,phone_numbers)\n",
    "phnos"
   ]
  },
  {
   "cell_type": "markdown",
   "metadata": {},
   "source": [
    "Reformatting phone numbers and then extracting them again"
   ]
  },
  {
   "cell_type": "code",
   "execution_count": 7,
   "metadata": {},
   "outputs": [
    {
     "data": {
      "text/plain": [
       "['145-202-9330', '156-201-3333', '111-505-1254']"
      ]
     },
     "execution_count": 7,
     "metadata": {},
     "output_type": "execute_result"
    }
   ],
   "source": [
    "replace_p = r'[.|*]'\n",
    "phone_numbers = re.sub(replace_p,\"-\",phone_numbers)\n",
    "p_pattern = r'([0-9]+.[0-9]+.[0-9]+)'\n",
    "phnos = re.findall(p_pattern,phone_numbers)\n",
    "phnos"
   ]
  },
  {
   "cell_type": "markdown",
   "metadata": {},
   "source": [
    "Let's extract the names"
   ]
  },
  {
   "cell_type": "code",
   "execution_count": 8,
   "metadata": {},
   "outputs": [
    {
     "data": {
      "text/plain": [
       "['john', 'Sara', 'maiki']"
      ]
     },
     "execution_count": 8,
     "metadata": {},
     "output_type": "execute_result"
    }
   ],
   "source": [
    "name_pattern = r'[A-Z]?[a-z]+'\n",
    "names = re.findall(name_pattern,phone_numbers)\n",
    "names"
   ]
  },
  {
   "cell_type": "markdown",
   "metadata": {},
   "source": [
    "Let's store it into a dictionary"
   ]
  },
  {
   "cell_type": "code",
   "execution_count": 9,
   "metadata": {},
   "outputs": [
    {
     "name": "stdout",
     "output_type": "stream",
     "text": [
      "{'john': '145-202-9330', 'Sara': '156-201-3333', 'maiki': '111-505-1254'}\n"
     ]
    }
   ],
   "source": [
    "contacts = dict()\n",
    "i=0\n",
    "for name in names:\n",
    "    contacts[name] = phnos[i]\n",
    "    i = i+1\n",
    "print(contacts)"
   ]
  },
  {
   "cell_type": "code",
   "execution_count": 10,
   "metadata": {},
   "outputs": [
    {
     "name": "stdout",
     "output_type": "stream",
     "text": [
      "wrong format!!!\n"
     ]
    }
   ],
   "source": [
    "email = input(\"enter your email address: \")\n",
    "email_format = r'[A-Z|a-z|0-9|_|.|-]+@[A-Z|a-z|-|.|_]+\\.(com|net|edu|uk|in)'\n",
    "if re.match(email_format,email):\n",
    "    print('valid format')\n",
    "else:\n",
    "    print('wrong format!!!')"
   ]
  },
  {
   "cell_type": "code",
   "execution_count": 11,
   "metadata": {},
   "outputs": [
    {
     "name": "stdout",
     "output_type": "stream",
     "text": [
      "wrong format!!!\n"
     ]
    }
   ],
   "source": [
    "t_email = input(\"enter the email address: \")\n",
    "e_format = r'[A-Z|a-z]{1}[A-Z|a-z|0-9|_|.|-]+@[A-Z|a-z|-|.|_]+\\.(com|net|edu|uk|in)'\n",
    "if re.match(e_format,t_email):\n",
    "    print('valid format')\n",
    "else:\n",
    "    print('wrong format!!!')"
   ]
  },
  {
   "cell_type": "code",
   "execution_count": 12,
   "metadata": {},
   "outputs": [
    {
     "data": {
      "text/plain": [
       "[('www.', 'google', '.com'),\n",
       " ('', 'youtube', '.com'),\n",
       " ('www.', 'nasa', '.gov'),\n",
       " ('', 'coursera', '.org')]"
      ]
     },
     "execution_count": 12,
     "metadata": {},
     "output_type": "execute_result"
    }
   ],
   "source": [
    "urls = \"\"\"\n",
    "https://www.google.com\n",
    "http://youtube.com\n",
    "https://www.nasa.gov\n",
    "https://coursera.org\n",
    "\"\"\"\n",
    "urls_pattern = r'https?://(www\\.)?(\\w+)(\\.\\w+)'\n",
    "url_lists = re.findall(urls_pattern,urls)\n",
    "url_lists"
   ]
  },
  {
   "cell_type": "code",
   "execution_count": 13,
   "metadata": {},
   "outputs": [
    {
     "name": "stdout",
     "output_type": "stream",
     "text": [
      "google.com\n",
      "youtube.com\n",
      "nasa.gov\n",
      "coursera.org\n",
      "\n"
     ]
    }
   ],
   "source": [
    "new_urls=\"\"\n",
    "for g1,g2,g3 in url_lists:\n",
    "    new_urls += g2+g3+\"\\n\"\n",
    "print(new_urls)\n",
    "    "
   ]
  },
  {
   "cell_type": "markdown",
   "metadata": {},
   "source": [
    "- Exercise: below you can see a list of dates with different formats. reformat all the dates into dd/mm/yyyy using Regex."
   ]
  },
  {
   "cell_type": "code",
   "execution_count": 14,
   "metadata": {},
   "outputs": [
    {
     "name": "stdout",
     "output_type": "stream",
     "text": [
      "[('12', '01', '2020'), ('15', '05', '2021'), ('07', '03', '2020'), ('10', '03', '2019')]\n"
     ]
    }
   ],
   "source": [
    "dates = \"\"\"\n",
    "12 01 2020\n",
    "15.05.2021\n",
    "07/03/2020\n",
    "10-03-2019\n",
    "\"\"\"\n",
    "dates_format = r'(\\w+).(\\w+).(\\w+)'\n",
    "dates_list = re.findall(dates_format,dates)\n",
    "print(dates_list)"
   ]
  },
  {
   "cell_type": "code",
   "execution_count": 15,
   "metadata": {},
   "outputs": [
    {
     "name": "stdout",
     "output_type": "stream",
     "text": [
      "12/01/2020\n",
      "15/05/2021\n",
      "07/03/2020\n",
      "10/03/2019\n",
      "\n"
     ]
    }
   ],
   "source": [
    "new_dates=\"\"\n",
    "for p1,p2,p3 in dates_list:\n",
    "    new_dates += p1+\"/\"+p2+\"/\"+p3+\"\\n\"\n",
    "print(new_dates)"
   ]
  },
  {
   "cell_type": "code",
   "execution_count": 16,
   "metadata": {},
   "outputs": [
    {
     "data": {
      "text/html": [
       "<div>\n",
       "<style scoped>\n",
       "    .dataframe tbody tr th:only-of-type {\n",
       "        vertical-align: middle;\n",
       "    }\n",
       "\n",
       "    .dataframe tbody tr th {\n",
       "        vertical-align: top;\n",
       "    }\n",
       "\n",
       "    .dataframe thead th {\n",
       "        text-align: right;\n",
       "    }\n",
       "</style>\n",
       "<table border=\"1\" class=\"dataframe\">\n",
       "  <thead>\n",
       "    <tr style=\"text-align: right;\">\n",
       "      <th></th>\n",
       "      <th>notes</th>\n",
       "    </tr>\n",
       "  </thead>\n",
       "  <tbody>\n",
       "    <tr>\n",
       "      <th>0</th>\n",
       "      <td>Friends reunion on Thursday 25-05-2021 at 6:00 pm</td>\n",
       "    </tr>\n",
       "    <tr>\n",
       "      <th>1</th>\n",
       "      <td>on Saturday-night 29-05-2021 at 3:00 pm champi...</td>\n",
       "    </tr>\n",
       "    <tr>\n",
       "      <th>2</th>\n",
       "      <td>the doctor's appointment is on Tuesday 12-04-2...</td>\n",
       "    </tr>\n",
       "    <tr>\n",
       "      <th>3</th>\n",
       "      <td>Meeting with friends on Friday 14-12-2020 at 8...</td>\n",
       "    </tr>\n",
       "    <tr>\n",
       "      <th>4</th>\n",
       "      <td>On Wednesday 06.01.2021 at 9:30 pm there is a ...</td>\n",
       "    </tr>\n",
       "    <tr>\n",
       "      <th>5</th>\n",
       "      <td>Don't forget to call Dani on Friday 22/07/2020...</td>\n",
       "    </tr>\n",
       "    <tr>\n",
       "      <th>6</th>\n",
       "      <td>Wednesday 25/05/2021 at 5:30 pm, meeting with ...</td>\n",
       "    </tr>\n",
       "    <tr>\n",
       "      <th>7</th>\n",
       "      <td>Job interview at 9:00 am Monday 02.02.2021</td>\n",
       "    </tr>\n",
       "  </tbody>\n",
       "</table>\n",
       "</div>"
      ],
      "text/plain": [
       "                                               notes\n",
       "0  Friends reunion on Thursday 25-05-2021 at 6:00 pm\n",
       "1  on Saturday-night 29-05-2021 at 3:00 pm champi...\n",
       "2  the doctor's appointment is on Tuesday 12-04-2...\n",
       "3  Meeting with friends on Friday 14-12-2020 at 8...\n",
       "4  On Wednesday 06.01.2021 at 9:30 pm there is a ...\n",
       "5  Don't forget to call Dani on Friday 22/07/2020...\n",
       "6  Wednesday 25/05/2021 at 5:30 pm, meeting with ...\n",
       "7         Job interview at 9:00 am Monday 02.02.2021"
      ]
     },
     "execution_count": 16,
     "metadata": {},
     "output_type": "execute_result"
    }
   ],
   "source": [
    "import pandas as pd\n",
    "data = pd.read_csv('dataset.csv')\n",
    "data"
   ]
  },
  {
   "cell_type": "code",
   "execution_count": 17,
   "metadata": {},
   "outputs": [
    {
     "data": {
      "text/html": [
       "<div>\n",
       "<style scoped>\n",
       "    .dataframe tbody tr th:only-of-type {\n",
       "        vertical-align: middle;\n",
       "    }\n",
       "\n",
       "    .dataframe tbody tr th {\n",
       "        vertical-align: top;\n",
       "    }\n",
       "\n",
       "    .dataframe thead th {\n",
       "        text-align: right;\n",
       "    }\n",
       "</style>\n",
       "<table border=\"1\" class=\"dataframe\">\n",
       "  <thead>\n",
       "    <tr style=\"text-align: right;\">\n",
       "      <th></th>\n",
       "      <th>day</th>\n",
       "      <th>month</th>\n",
       "      <th>year</th>\n",
       "      <th>weekday</th>\n",
       "      <th>time</th>\n",
       "    </tr>\n",
       "  </thead>\n",
       "  <tbody>\n",
       "  </tbody>\n",
       "</table>\n",
       "</div>"
      ],
      "text/plain": [
       "Empty DataFrame\n",
       "Columns: [day, month, year, weekday, time]\n",
       "Index: []"
      ]
     },
     "execution_count": 17,
     "metadata": {},
     "output_type": "execute_result"
    }
   ],
   "source": [
    "information = pd.DataFrame(columns=[\"day\",\"month\",\"year\",\"weekday\",\"time\"])\n",
    "information"
   ]
  },
  {
   "cell_type": "code",
   "execution_count": 18,
   "metadata": {},
   "outputs": [
    {
     "data": {
      "text/plain": [
       "0    11\n",
       "1    15\n",
       "2    14\n",
       "3    12\n",
       "4    14\n",
       "5    15\n",
       "6    12\n",
       "7    10\n",
       "Name: notes, dtype: int64"
      ]
     },
     "execution_count": 18,
     "metadata": {},
     "output_type": "execute_result"
    }
   ],
   "source": [
    "data[\"notes\"].str.count(r'\\w+')"
   ]
  },
  {
   "cell_type": "code",
   "execution_count": 19,
   "metadata": {},
   "outputs": [
    {
     "data": {
      "text/plain": [
       "0    [Friends, reunion, on, Thursday, 25, 05, 2021,...\n",
       "1    [on, Saturday, night, 29, 05, 2021, at, 3, 00,...\n",
       "2    [the, doctor, s, appointment, is, on, Tuesday,...\n",
       "3    [Meeting, with, friends, on, Friday, 14, 12, 2...\n",
       "4    [On, Wednesday, 06, 01, 2021, at, 9, 30, pm, t...\n",
       "5    [Don, t, forget, to, call, Dani, on, Friday, 2...\n",
       "6    [Wednesday, 25, 05, 2021, at, 5, 30, pm, meeti...\n",
       "7    [Job, interview, at, 9, 00, am, Monday, 02, 02...\n",
       "Name: notes, dtype: object"
      ]
     },
     "execution_count": 19,
     "metadata": {},
     "output_type": "execute_result"
    }
   ],
   "source": [
    "data['notes'].str.findall(r'\\w+')"
   ]
  },
  {
   "cell_type": "code",
   "execution_count": 20,
   "metadata": {},
   "outputs": [
    {
     "data": {
      "text/plain": [
       "0    [25-05-2021]\n",
       "1    [29-05-2021]\n",
       "2    [12-04-2021]\n",
       "3    [14-12-2020]\n",
       "4    [06.01.2021]\n",
       "5    [22/07/2020]\n",
       "6    [25/05/2021]\n",
       "7    [02.02.2021]\n",
       "Name: notes, dtype: object"
      ]
     },
     "execution_count": 20,
     "metadata": {},
     "output_type": "execute_result"
    }
   ],
   "source": [
    "dates = data['notes'].str.findall('\\d{2}.\\d{2}.\\d{4}')\n",
    "dates"
   ]
  },
  {
   "cell_type": "code",
   "execution_count": 21,
   "metadata": {},
   "outputs": [
    {
     "name": "stderr",
     "output_type": "stream",
     "text": [
      "C:\\Users\\vivek Negi\\AppData\\Local\\Temp\\ipykernel_4224\\2869490471.py:1: FutureWarning: The default value of regex will change from True to False in a future version.\n",
      "  dates=data['notes'].str.replace(r'(\\d{2}).(\\d{2}).(\\d{4})', lambda groups: groups[1]+'/'+groups[2]+'/'+groups[3])\n"
     ]
    },
    {
     "data": {
      "text/html": [
       "<div>\n",
       "<style scoped>\n",
       "    .dataframe tbody tr th:only-of-type {\n",
       "        vertical-align: middle;\n",
       "    }\n",
       "\n",
       "    .dataframe tbody tr th {\n",
       "        vertical-align: top;\n",
       "    }\n",
       "\n",
       "    .dataframe thead th {\n",
       "        text-align: right;\n",
       "    }\n",
       "</style>\n",
       "<table border=\"1\" class=\"dataframe\">\n",
       "  <thead>\n",
       "    <tr style=\"text-align: right;\">\n",
       "      <th></th>\n",
       "      <th>day</th>\n",
       "      <th>month</th>\n",
       "      <th>year</th>\n",
       "    </tr>\n",
       "  </thead>\n",
       "  <tbody>\n",
       "    <tr>\n",
       "      <th>0</th>\n",
       "      <td>25</td>\n",
       "      <td>05</td>\n",
       "      <td>2021</td>\n",
       "    </tr>\n",
       "    <tr>\n",
       "      <th>1</th>\n",
       "      <td>29</td>\n",
       "      <td>05</td>\n",
       "      <td>2021</td>\n",
       "    </tr>\n",
       "    <tr>\n",
       "      <th>2</th>\n",
       "      <td>12</td>\n",
       "      <td>04</td>\n",
       "      <td>2021</td>\n",
       "    </tr>\n",
       "    <tr>\n",
       "      <th>3</th>\n",
       "      <td>14</td>\n",
       "      <td>12</td>\n",
       "      <td>2020</td>\n",
       "    </tr>\n",
       "    <tr>\n",
       "      <th>4</th>\n",
       "      <td>06</td>\n",
       "      <td>01</td>\n",
       "      <td>2021</td>\n",
       "    </tr>\n",
       "    <tr>\n",
       "      <th>5</th>\n",
       "      <td>22</td>\n",
       "      <td>07</td>\n",
       "      <td>2020</td>\n",
       "    </tr>\n",
       "    <tr>\n",
       "      <th>6</th>\n",
       "      <td>25</td>\n",
       "      <td>05</td>\n",
       "      <td>2021</td>\n",
       "    </tr>\n",
       "    <tr>\n",
       "      <th>7</th>\n",
       "      <td>02</td>\n",
       "      <td>02</td>\n",
       "      <td>2021</td>\n",
       "    </tr>\n",
       "  </tbody>\n",
       "</table>\n",
       "</div>"
      ],
      "text/plain": [
       "  day month  year\n",
       "0  25    05  2021\n",
       "1  29    05  2021\n",
       "2  12    04  2021\n",
       "3  14    12  2020\n",
       "4  06    01  2021\n",
       "5  22    07  2020\n",
       "6  25    05  2021\n",
       "7  02    02  2021"
      ]
     },
     "execution_count": 21,
     "metadata": {},
     "output_type": "execute_result"
    }
   ],
   "source": [
    "dates=data['notes'].str.replace(r'(\\d{2}).(\\d{2}).(\\d{4})', lambda groups: groups[1]+'/'+groups[2]+'/'+groups[3])\n",
    "dates_df=dates.str.extract('(?P<day>\\d{2})/(?P<month>\\d{2})/(?P<year>\\d{4})')\n",
    "dates_df"
   ]
  },
  {
   "cell_type": "code",
   "execution_count": 22,
   "metadata": {},
   "outputs": [
    {
     "data": {
      "text/html": [
       "<div>\n",
       "<style scoped>\n",
       "    .dataframe tbody tr th:only-of-type {\n",
       "        vertical-align: middle;\n",
       "    }\n",
       "\n",
       "    .dataframe tbody tr th {\n",
       "        vertical-align: top;\n",
       "    }\n",
       "\n",
       "    .dataframe thead th {\n",
       "        text-align: right;\n",
       "    }\n",
       "</style>\n",
       "<table border=\"1\" class=\"dataframe\">\n",
       "  <thead>\n",
       "    <tr style=\"text-align: right;\">\n",
       "      <th></th>\n",
       "      <th>time</th>\n",
       "    </tr>\n",
       "  </thead>\n",
       "  <tbody>\n",
       "    <tr>\n",
       "      <th>0</th>\n",
       "      <td>6:00</td>\n",
       "    </tr>\n",
       "    <tr>\n",
       "      <th>1</th>\n",
       "      <td>3:00</td>\n",
       "    </tr>\n",
       "    <tr>\n",
       "      <th>2</th>\n",
       "      <td>4:40</td>\n",
       "    </tr>\n",
       "    <tr>\n",
       "      <th>3</th>\n",
       "      <td>8:30</td>\n",
       "    </tr>\n",
       "    <tr>\n",
       "      <th>4</th>\n",
       "      <td>9:30</td>\n",
       "    </tr>\n",
       "    <tr>\n",
       "      <th>5</th>\n",
       "      <td>12:00</td>\n",
       "    </tr>\n",
       "    <tr>\n",
       "      <th>6</th>\n",
       "      <td>5:30</td>\n",
       "    </tr>\n",
       "    <tr>\n",
       "      <th>7</th>\n",
       "      <td>9:00</td>\n",
       "    </tr>\n",
       "  </tbody>\n",
       "</table>\n",
       "</div>"
      ],
      "text/plain": [
       "    time\n",
       "0   6:00\n",
       "1   3:00\n",
       "2   4:40\n",
       "3   8:30\n",
       "4   9:30\n",
       "5  12:00\n",
       "6   5:30\n",
       "7   9:00"
      ]
     },
     "execution_count": 22,
     "metadata": {},
     "output_type": "execute_result"
    }
   ],
   "source": [
    "time_df = data['notes'].str.extract('(?P<time>\\d+:\\d+)')\n",
    "time_df"
   ]
  },
  {
   "cell_type": "code",
   "execution_count": 23,
   "metadata": {},
   "outputs": [
    {
     "data": {
      "text/html": [
       "<div>\n",
       "<style scoped>\n",
       "    .dataframe tbody tr th:only-of-type {\n",
       "        vertical-align: middle;\n",
       "    }\n",
       "\n",
       "    .dataframe tbody tr th {\n",
       "        vertical-align: top;\n",
       "    }\n",
       "\n",
       "    .dataframe thead th {\n",
       "        text-align: right;\n",
       "    }\n",
       "</style>\n",
       "<table border=\"1\" class=\"dataframe\">\n",
       "  <thead>\n",
       "    <tr style=\"text-align: right;\">\n",
       "      <th></th>\n",
       "      <th>weekdays</th>\n",
       "    </tr>\n",
       "  </thead>\n",
       "  <tbody>\n",
       "    <tr>\n",
       "      <th>0</th>\n",
       "      <td>Thursday</td>\n",
       "    </tr>\n",
       "    <tr>\n",
       "      <th>1</th>\n",
       "      <td>Saturday</td>\n",
       "    </tr>\n",
       "    <tr>\n",
       "      <th>2</th>\n",
       "      <td>Tuesday</td>\n",
       "    </tr>\n",
       "    <tr>\n",
       "      <th>3</th>\n",
       "      <td>Friday</td>\n",
       "    </tr>\n",
       "    <tr>\n",
       "      <th>4</th>\n",
       "      <td>Wednesday</td>\n",
       "    </tr>\n",
       "    <tr>\n",
       "      <th>5</th>\n",
       "      <td>Friday</td>\n",
       "    </tr>\n",
       "    <tr>\n",
       "      <th>6</th>\n",
       "      <td>Wednesday</td>\n",
       "    </tr>\n",
       "    <tr>\n",
       "      <th>7</th>\n",
       "      <td>Monday</td>\n",
       "    </tr>\n",
       "  </tbody>\n",
       "</table>\n",
       "</div>"
      ],
      "text/plain": [
       "    weekdays\n",
       "0   Thursday\n",
       "1   Saturday\n",
       "2    Tuesday\n",
       "3     Friday\n",
       "4  Wednesday\n",
       "5     Friday\n",
       "6  Wednesday\n",
       "7     Monday"
      ]
     },
     "execution_count": 23,
     "metadata": {},
     "output_type": "execute_result"
    }
   ],
   "source": [
    "week_df=data['notes'].str.extract('(?P<weekdays>\\w+day)')\n",
    "week_df"
   ]
  },
  {
   "cell_type": "code",
   "execution_count": 24,
   "metadata": {},
   "outputs": [
    {
     "data": {
      "text/html": [
       "<div>\n",
       "<style scoped>\n",
       "    .dataframe tbody tr th:only-of-type {\n",
       "        vertical-align: middle;\n",
       "    }\n",
       "\n",
       "    .dataframe tbody tr th {\n",
       "        vertical-align: top;\n",
       "    }\n",
       "\n",
       "    .dataframe thead th {\n",
       "        text-align: right;\n",
       "    }\n",
       "</style>\n",
       "<table border=\"1\" class=\"dataframe\">\n",
       "  <thead>\n",
       "    <tr style=\"text-align: right;\">\n",
       "      <th></th>\n",
       "      <th>day</th>\n",
       "      <th>month</th>\n",
       "      <th>year</th>\n",
       "      <th>time</th>\n",
       "      <th>weekdays</th>\n",
       "    </tr>\n",
       "  </thead>\n",
       "  <tbody>\n",
       "    <tr>\n",
       "      <th>0</th>\n",
       "      <td>25</td>\n",
       "      <td>05</td>\n",
       "      <td>2021</td>\n",
       "      <td>6:00</td>\n",
       "      <td>Thursday</td>\n",
       "    </tr>\n",
       "    <tr>\n",
       "      <th>1</th>\n",
       "      <td>29</td>\n",
       "      <td>05</td>\n",
       "      <td>2021</td>\n",
       "      <td>3:00</td>\n",
       "      <td>Saturday</td>\n",
       "    </tr>\n",
       "    <tr>\n",
       "      <th>2</th>\n",
       "      <td>12</td>\n",
       "      <td>04</td>\n",
       "      <td>2021</td>\n",
       "      <td>4:40</td>\n",
       "      <td>Tuesday</td>\n",
       "    </tr>\n",
       "    <tr>\n",
       "      <th>3</th>\n",
       "      <td>14</td>\n",
       "      <td>12</td>\n",
       "      <td>2020</td>\n",
       "      <td>8:30</td>\n",
       "      <td>Friday</td>\n",
       "    </tr>\n",
       "    <tr>\n",
       "      <th>4</th>\n",
       "      <td>06</td>\n",
       "      <td>01</td>\n",
       "      <td>2021</td>\n",
       "      <td>9:30</td>\n",
       "      <td>Wednesday</td>\n",
       "    </tr>\n",
       "    <tr>\n",
       "      <th>5</th>\n",
       "      <td>22</td>\n",
       "      <td>07</td>\n",
       "      <td>2020</td>\n",
       "      <td>12:00</td>\n",
       "      <td>Friday</td>\n",
       "    </tr>\n",
       "    <tr>\n",
       "      <th>6</th>\n",
       "      <td>25</td>\n",
       "      <td>05</td>\n",
       "      <td>2021</td>\n",
       "      <td>5:30</td>\n",
       "      <td>Wednesday</td>\n",
       "    </tr>\n",
       "    <tr>\n",
       "      <th>7</th>\n",
       "      <td>02</td>\n",
       "      <td>02</td>\n",
       "      <td>2021</td>\n",
       "      <td>9:00</td>\n",
       "      <td>Monday</td>\n",
       "    </tr>\n",
       "  </tbody>\n",
       "</table>\n",
       "</div>"
      ],
      "text/plain": [
       "  day month  year   time   weekdays\n",
       "0  25    05  2021   6:00   Thursday\n",
       "1  29    05  2021   3:00   Saturday\n",
       "2  12    04  2021   4:40    Tuesday\n",
       "3  14    12  2020   8:30     Friday\n",
       "4  06    01  2021   9:30  Wednesday\n",
       "5  22    07  2020  12:00     Friday\n",
       "6  25    05  2021   5:30  Wednesday\n",
       "7  02    02  2021   9:00     Monday"
      ]
     },
     "execution_count": 24,
     "metadata": {},
     "output_type": "execute_result"
    }
   ],
   "source": [
    "info = dates_df.join(time_df).join(week_df)\n",
    "info"
   ]
  },
  {
   "cell_type": "code",
   "execution_count": 25,
   "metadata": {},
   "outputs": [
    {
     "data": {
      "text/plain": [
       "Friday       2\n",
       "Wednesday    2\n",
       "Thursday     1\n",
       "Saturday     1\n",
       "Tuesday      1\n",
       "Monday       1\n",
       "Name: weekdays, dtype: int64"
      ]
     },
     "execution_count": 25,
     "metadata": {},
     "output_type": "execute_result"
    }
   ],
   "source": [
    "info.weekdays.value_counts()"
   ]
  },
  {
   "cell_type": "code",
   "execution_count": 28,
   "metadata": {},
   "outputs": [
    {
     "data": {
      "text/plain": [
       "05    3\n",
       "04    1\n",
       "01    1\n",
       "02    1\n",
       "Name: month, dtype: int64"
      ]
     },
     "execution_count": 28,
     "metadata": {},
     "output_type": "execute_result"
    }
   ],
   "source": [
    "info[info.year==\"2021\"].month.value_counts()"
   ]
  }
 ],
 "metadata": {
  "kernelspec": {
   "display_name": "venv",
   "language": "python",
   "name": "python3"
  },
  "language_info": {
   "codemirror_mode": {
    "name": "ipython",
    "version": 3
   },
   "file_extension": ".py",
   "mimetype": "text/x-python",
   "name": "python",
   "nbconvert_exporter": "python",
   "pygments_lexer": "ipython3",
   "version": "3.9.6 (tags/v3.9.6:db3ff76, Jun 28 2021, 15:26:21) [MSC v.1929 64 bit (AMD64)]"
  },
  "vscode": {
   "interpreter": {
    "hash": "b7af5f50bbd75f6f1688439b2bb8235c1bef61443db844399af15d3361f21915"
   }
  }
 },
 "nbformat": 4,
 "nbformat_minor": 4
}
